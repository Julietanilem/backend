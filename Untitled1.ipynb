{
 "cells": [
  {
   "cell_type": "code",
   "execution_count": 13,
   "id": "9888fdab-700a-42c3-841c-6a6347753d8c",
   "metadata": {},
   "outputs": [],
   "source": [
    "res = '{\\n  \"question\": \"¿Cuál es el método utilizado para descubrir el exoplaneta Kepler-371 b?\",\\n  \"answers\": [\\n    \"Método de velocidad radial\",\\n    \"Método de microlentes gravitacionales\",\\n    \"Método de tránsito\"\\n  ],\\n  \"correct_answer\": \"Método de tránsito\"\\n}\\n'"
   ]
  },
  {
   "cell_type": "code",
   "execution_count": 14,
   "id": "cbb7ba22-252b-4f64-a2b3-9b035f1ea834",
   "metadata": {},
   "outputs": [],
   "source": [
    "res.replace(\"\\\\s\", \"\")\n",
    "question = res.split(\"Pregunta:\")\n",
    "answ = res.split(\"Respuestas:\")\n",
    "resCorrecta = res.split(\"correct_answer:\")"
   ]
  }
 ],
 "metadata": {
  "kernelspec": {
   "display_name": "Python 3 (ipykernel)",
   "language": "python",
   "name": "python3"
  },
  "language_info": {
   "codemirror_mode": {
    "name": "ipython",
    "version": 3
   },
   "file_extension": ".py",
   "mimetype": "text/x-python",
   "name": "python",
   "nbconvert_exporter": "python",
   "pygments_lexer": "ipython3",
   "version": "3.11.9"
  }
 },
 "nbformat": 4,
 "nbformat_minor": 5
}
